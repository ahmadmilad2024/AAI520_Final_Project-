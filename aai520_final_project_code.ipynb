{
 "cells": [
  {
   "cell_type": "code",
   "execution_count": 17,
   "id": "d9afe89e-102d-444e-913a-23d18377ed87",
   "metadata": {},
   "outputs": [],
   "source": [
    "# Importing the necessary libs \n",
    "import tensorflow as tf\n",
    "from transformers import BertTokenizer, BertForSequenceClassification\n",
    "import torch\n",
    "import pandas as pd\n",
    "import matplotlib.pyplot as plt\n",
    "import seaborn as sns \n",
    "from sklearn.model_selection import train_test_split\n",
    "from torch.utils.data import DataLoader, TensorDataset\n",
    "from transformers import AdamW\n",
    "from tqdm import tqdm\n",
    "from torch.nn import CrossEntropyLoss\n",
    "from sklearn.metrics import accuracy_score, precision_score, recall_score, f1_score\n",
    "import spacy\n",
    "from transformers import BertTokenizer, TFBertForSequenceClassification\n",
    "from sklearn.metrics import classification_report\n",
    "import json\n",
    "from itertools import islice"
   ]
  },
  {
   "cell_type": "code",
   "execution_count": 18,
   "id": "502023bc-dfa2-4a24-89e6-94e2e053051d",
   "metadata": {},
   "outputs": [],
   "source": [
    "# Read train data\n",
    "with open(r\"./standford_questioner_dataset/train-v1.1.json\", \"r\") as read_file:\n",
    "    train = json.load(read_file)\n",
    "\n",
    "# Read test data\n",
    "with open(r\"./standford_questioner_dataset/dev-v1.1.json\", \"r\") as read_file:\n",
    "    test = json.load(read_file)"
   ]
  },
  {
   "cell_type": "code",
   "execution_count": 24,
   "id": "3199be00-c3e2-4bb1-b474-b6803dd144fd",
   "metadata": {},
   "outputs": [
    {
     "name": "stdout",
     "output_type": "stream",
     "text": [
      "dict_keys(['data', 'version'])\n"
     ]
    }
   ],
   "source": [
    "# Check top-level keys\n",
    "print(train.keys())  "
   ]
  },
  {
   "cell_type": "code",
   "execution_count": 31,
   "id": "b5086887-aa76-411d-bee0-eb430397d36a",
   "metadata": {},
   "outputs": [
    {
     "name": "stdout",
     "output_type": "stream",
     "text": [
      "Title: University_of_Notre_Dame\n",
      "Context: Architecturally, the school has a Catholic character. Atop the Main Building's gold dome is a golden ...\n",
      "Question: To whom did the Virgin Mary allegedly appear in 1858 in Lourdes France?\n",
      "Answer: Saint Bernadette Soubirous\n",
      "\n",
      "Question: What is in front of the Notre Dame Main Building?\n",
      "Answer: a copper statue of Christ\n",
      "\n",
      "Question: The Basilica of the Sacred heart at Notre Dame is beside to which structure?\n",
      "Answer: the Main Building\n",
      "\n",
      "Question: What is the Grotto at Notre Dame?\n",
      "Answer: a Marian place of prayer and reflection\n",
      "\n",
      "Question: What sits on top of the Main Building at Notre Dame?\n",
      "Answer: a golden statue of the Virgin Mary\n",
      "\n"
     ]
    }
   ],
   "source": [
    "# Initialize a counter to track the number of interactions printed\n",
    "interaction_count = 0\n",
    "max_interactions = 5  # Set the limit to 5\n",
    "\n",
    "for article in train['data']:\n",
    "    print(\"Title:\", article['title'])\n",
    "    for paragraph in article['paragraphs']:\n",
    "        print(\"Context:\", paragraph['context'][:100], \"...\")  #\n",
    "        for qa in paragraph['qas']:\n",
    "            print(\"Question:\", qa['question'])\n",
    "            for answer in qa['answers']:\n",
    "                print(\"Answer:\", answer['text'])\n",
    "            print()  \n",
    "            interaction_count += 1\n",
    "            \n",
    "            # Break if we reach the limit of 5 interactions\n",
    "            if interaction_count >= max_interactions:\n",
    "                break\n",
    "        if interaction_count >= max_interactions:\n",
    "            break\n",
    "    if interaction_count >= max_interactions:\n",
    "        break"
   ]
  },
  {
   "cell_type": "code",
   "execution_count": null,
   "id": "3ba7ed6c-059a-47e4-8031-70bc41fb0b43",
   "metadata": {},
   "outputs": [],
   "source": []
  }
 ],
 "metadata": {
  "kernelspec": {
   "display_name": "Python 3 (ipykernel)",
   "language": "python",
   "name": "python3"
  },
  "language_info": {
   "codemirror_mode": {
    "name": "ipython",
    "version": 3
   },
   "file_extension": ".py",
   "mimetype": "text/x-python",
   "name": "python",
   "nbconvert_exporter": "python",
   "pygments_lexer": "ipython3",
   "version": "3.12.3"
  }
 },
 "nbformat": 4,
 "nbformat_minor": 5
}
