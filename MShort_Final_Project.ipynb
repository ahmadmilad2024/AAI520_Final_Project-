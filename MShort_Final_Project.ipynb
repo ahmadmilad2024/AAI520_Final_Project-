{
 "cells": [
  {
   "cell_type": "code",
   "execution_count": 30,
   "id": "ccb7f113-db57-43d0-a648-ed24932e426a",
   "metadata": {},
   "outputs": [
    {
     "name": "stdout",
     "output_type": "stream",
     "text": [
      "data is prepped\n"
     ]
    }
   ],
   "source": [
    "# Import necessary libraries for GPT-2 with Dataset json files\n",
    "from transformers import GPT2Tokenizer, GPT2LMHeadModel, Trainer, TrainingArguments\n",
    "from torch.utils.data import DataLoader\n",
    "import torch\n",
    "import json\n",
    "from datasets import Dataset\n",
    "\n",
    "# Load the pre-trained tokenizer and model\n",
    "model_name = \"gpt2\"\n",
    "tokenizer = GPT2Tokenizer.from_pretrained(model_name)\n",
    "model = GPT2LMHeadModel.from_pretrained(model_name)\n",
    "\n",
    "# Assign the padding token to the EOS (End of Sequence) token\n",
    "tokenizer.pad_token = tokenizer.eos_token\n",
    "\n",
    "# Resize the token embeddings if a new token is added\n",
    "model.resize_token_embeddings(len(tokenizer))\n",
    "\n",
    "# Move model to GPU if available\n",
    "device = torch.device(\"cuda\" if torch.cuda.is_available() else \"cpu\")\n",
    "model.to(device)\n",
    "\n",
    "# Set the file paths for the training and test datasets (train and dev respectively)\n",
    "train_file_path = './train-v1.1.json'\n",
    "test_file_path = './dev-v1.1.json'\n",
    "\n",
    "# Load datasets\n",
    "def load_squad_data(file_path):\n",
    "    with open(file_path, 'r') as file:\n",
    "        return json.load(file)\n",
    "\n",
    "train_data = load_squad_data(train_file_path)\n",
    "test_data = load_squad_data(test_file_path)\n",
    "\n",
    "# Prepare training and test data\n",
    "def prepare_data(squad_data):\n",
    "    contexts, questions, answers = [], [], []\n",
    "    for article in squad_data['data']:\n",
    "        for paragraph in article['paragraphs']:\n",
    "            context = paragraph['context']\n",
    "            for qa in paragraph['qas']:\n",
    "                question = qa['question']\n",
    "                \n",
    "                #first answer display\n",
    "                answer = qa['answers'][0]['text']\n",
    "                contexts.append(context)\n",
    "                questions.append(question)\n",
    "                answers.append(answer)\n",
    "    return contexts, questions, answers\n",
    "\n",
    "# Prepare datasets\n",
    "train_contexts, train_questions, train_answers = prepare_data(train_data)\n",
    "test_contexts, test_questions, test_answers = prepare_data(test_data)\n",
    "\n",
    "#print for proof of completion\n",
    "print(\"data is prepped\")"
   ]
  },
  {
   "cell_type": "code",
   "execution_count": 2,
   "id": "5c33a454-72e9-4fe9-9d86-4455adb560ec",
   "metadata": {},
   "outputs": [
    {
     "data": {
      "application/vnd.jupyter.widget-view+json": {
       "model_id": "8dd23a92ca8e468bbd644cb61de650aa",
       "version_major": 2,
       "version_minor": 0
      },
      "text/plain": [
       "Map:   0%|          | 0/87599 [00:00<?, ? examples/s]"
      ]
     },
     "metadata": {},
     "output_type": "display_data"
    },
    {
     "data": {
      "application/vnd.jupyter.widget-view+json": {
       "model_id": "881c913f771a41b78f18b88502d0d1d5",
       "version_major": 2,
       "version_minor": 0
      },
      "text/plain": [
       "Map:   0%|          | 0/10570 [00:00<?, ? examples/s]"
      ]
     },
     "metadata": {},
     "output_type": "display_data"
    },
    {
     "name": "stderr",
     "output_type": "stream",
     "text": [
      "C:\\Users\\sassy\\anaconda3\\Lib\\site-packages\\transformers\\training_args.py:1545: FutureWarning: `evaluation_strategy` is deprecated and will be removed in version 4.46 of 🤗 Transformers. Use `eval_strategy` instead\n",
      "  warnings.warn(\n",
      "C:\\Users\\sassy\\anaconda3\\Lib\\site-packages\\transformers\\models\\gpt2\\modeling_gpt2.py:545: UserWarning: 1Torch was not compiled with flash attention. (Triggered internally at C:\\cb\\pytorch_1000000000000\\work\\aten\\src\\ATen\\native\\transformers\\cuda\\sdp_utils.cpp:555.)\n",
      "  attn_output = torch.nn.functional.scaled_dot_product_attention(\n"
     ]
    },
    {
     "data": {
      "text/html": [
       "\n",
       "    <div>\n",
       "      \n",
       "      <progress value='32850' max='32850' style='width:300px; height:20px; vertical-align: middle;'></progress>\n",
       "      [32850/32850 14:04:57, Epoch 3/3]\n",
       "    </div>\n",
       "    <table border=\"1\" class=\"dataframe\">\n",
       "  <thead>\n",
       " <tr style=\"text-align: left;\">\n",
       "      <th>Epoch</th>\n",
       "      <th>Training Loss</th>\n",
       "      <th>Validation Loss</th>\n",
       "    </tr>\n",
       "  </thead>\n",
       "  <tbody>\n",
       "    <tr>\n",
       "      <td>1</td>\n",
       "      <td>1.412000</td>\n",
       "      <td>1.464174</td>\n",
       "    </tr>\n",
       "    <tr>\n",
       "      <td>2</td>\n",
       "      <td>1.199800</td>\n",
       "      <td>1.475640</td>\n",
       "    </tr>\n",
       "    <tr>\n",
       "      <td>3</td>\n",
       "      <td>1.257400</td>\n",
       "      <td>1.480558</td>\n",
       "    </tr>\n",
       "  </tbody>\n",
       "</table><p>"
      ],
      "text/plain": [
       "<IPython.core.display.HTML object>"
      ]
     },
     "metadata": {},
     "output_type": "display_data"
    },
    {
     "data": {
      "text/plain": [
       "('./gpt2-qa\\\\tokenizer_config.json',\n",
       " './gpt2-qa\\\\special_tokens_map.json',\n",
       " './gpt2-qa\\\\vocab.json',\n",
       " './gpt2-qa\\\\merges.txt',\n",
       " './gpt2-qa\\\\added_tokens.json')"
      ]
     },
     "execution_count": 2,
     "metadata": {},
     "output_type": "execute_result"
    }
   ],
   "source": [
    "# Create a list of formatted training examples\n",
    "train_formatted_data = []\n",
    "for context, question, answer in zip(train_contexts, train_questions, train_answers):\n",
    "    train_formatted_data.append(f\"Context: {context}\\nQuestion: {question}\\nAnswer: {answer}\")\n",
    "\n",
    "# Create a list of formatted test examples\n",
    "test_formatted_data = []\n",
    "for context, question, answer in zip(test_contexts, test_questions, test_answers):\n",
    "    test_formatted_data.append(f\"Context: {context}\\nQuestion: {question}\\nAnswer: {answer}\")\n",
    "\n",
    "# Convert to Hugging Face Dataset\n",
    "train_dataset = Dataset.from_dict({\"text\": train_formatted_data})\n",
    "test_dataset = Dataset.from_dict({\"text\": test_formatted_data})\n",
    "\n",
    "# Tokenize the dataset and set 'labels' for loss computation\n",
    "def tokenize_function(examples):\n",
    "    encoding = tokenizer(\n",
    "        examples[\"text\"],\n",
    "        max_length=384,\n",
    "        truncation=True,\n",
    "        padding='max_length',\n",
    "        return_tensors='pt'\n",
    "    )\n",
    "    encoding[\"input_ids\"] = encoding[\"input_ids\"].to(device)\n",
    "    encoding[\"attention_mask\"] = encoding[\"attention_mask\"].to(device)\n",
    "    encoding[\"labels\"] = encoding[\"input_ids\"].clone()\n",
    "    return encoding\n",
    "\n",
    "# Apply tokenization to the datasets\n",
    "tokenized_train_dataset = train_dataset.map(tokenize_function, batched=True)\n",
    "tokenized_test_dataset = test_dataset.map(tokenize_function, batched=True)\n",
    "\n",
    "# Training Arguments\n",
    "training_args = TrainingArguments(\n",
    "    output_dir='./results',\n",
    "    evaluation_strategy=\"epoch\",\n",
    "    learning_rate=2e-5,\n",
    "    per_device_train_batch_size=8,\n",
    "    per_device_eval_batch_size=8,\n",
    "    num_train_epochs=3,\n",
    "    weight_decay=0.01,\n",
    "    logging_dir='./logs',\n",
    "    logging_steps=10,\n",
    ")\n",
    "\n",
    "# Trainer setup\n",
    "trainer = Trainer(\n",
    "    model=model,\n",
    "    args=training_args,\n",
    "    train_dataset=tokenized_train_dataset,\n",
    "    eval_dataset=tokenized_test_dataset,\n",
    "    tokenizer=tokenizer\n",
    ")\n",
    "\n",
    "# Training\n",
    "trainer.train()\n",
    "\n",
    "# Save the model and tokenizer after training (files show up in gpt2-qa folder for use)\n",
    "model.save_pretrained('./gpt2-qa')\n",
    "tokenizer.save_pretrained('./gpt2-qa')"
   ]
  },
  {
   "cell_type": "code",
   "execution_count": 44,
   "id": "ae245b9a-184d-4203-8045-6035e05b563b",
   "metadata": {},
   "outputs": [],
   "source": [
    "# Install necessary for modeling\n",
    "!pip install transformers --quiet\n",
    "import torch\n",
    "import math\n",
    "\n",
    "# Load the fine-tuned tokenizer and model\n",
    "tokenizer = GPT2Tokenizer.from_pretrained(r'C:\\Users\\sassy\\Downloads\\Final Project\\gpt2-qa')\n",
    "model = GPT2LMHeadModel.from_pretrained(r'C:\\Users\\sassy\\Downloads\\Final Project\\gpt2-qa')\n",
    "\n",
    "# Ensure model is in evaluation mode\n",
    "model.eval()\n",
    "\n",
    "# Define the response generation function with response length limitation\n",
    "def generate_response(conversation_history, max_length=500):\n",
    "    # Join the conversation history into a single string\n",
    "    prompt = '\\n'.join(conversation_history) + '\\nBot:'\n",
    "    \n",
    "    # Tokenize prompt\n",
    "    inputs = tokenizer(prompt, return_tensors='pt', padding=True, truncation=True, max_length=1024)\n",
    "    \n",
    "    # Generate a response with a limited max length\n",
    "    output = model.generate(\n",
    "        input_ids=inputs['input_ids'],\n",
    "        attention_mask=inputs['attention_mask'],\n",
    "        max_length=inputs['input_ids'].shape[1] + 75,\n",
    "        pad_token_id=tokenizer.pad_token_id,\n",
    "        no_repeat_ngram_size=3,\n",
    "        do_sample=True,\n",
    "        top_p=0.9,\n",
    "        temperature=0.8\n",
    "    )\n",
    "    \n",
    "    # Decode and extract the bot's response\n",
    "    response_text = tokenizer.decode(output[0], skip_special_tokens=True)\n",
    "    generated_text = response_text[len(prompt):].strip()\n",
    "    for stop_token in ['\\nUser:', '\\nBot:']:\n",
    "        generated_text = generated_text.split(stop_token)[0]\n",
    "    return generated_text.strip()"
   ]
  },
  {
   "cell_type": "code",
   "execution_count": 45,
   "id": "0a4c1316-bbff-48ee-8614-49da4a14b08f",
   "metadata": {},
   "outputs": [],
   "source": [
    "# Function to truncate conversation history if too long\n",
    "def truncate_conversation(conversation_history, max_length=1024):\n",
    "    prompt = '\\n'.join(conversation_history) + '\\nBot:'\n",
    "    tokenized_prompt = tokenizer(prompt, return_tensors='pt')\n",
    "    total_length = tokenized_prompt.input_ids.shape[1]\n",
    "    while total_length > max_length and len(conversation_history) > 1:\n",
    "        conversation_history = conversation_history[2:]  # Remove oldest user and bot turn\n",
    "        tokenized_prompt = tokenizer('\\n'.join(conversation_history) + '\\nBot:', return_tensors='pt')\n",
    "        total_length = tokenized_prompt.input_ids.shape[1]\n",
    "    return conversation_history\n",
    "\n",
    "# Function to compute log-transformed perplexity to avoid large jumps\n",
    "def compute_perplexity(model, tokenizer, text):\n",
    "    with torch.no_grad():\n",
    "        inputs = tokenizer(text, return_tensors='pt')\n",
    "        outputs = model(**inputs, labels=inputs[\"input_ids\"])\n",
    "        loss = outputs.loss\n",
    "        perplexity = torch.exp(loss).item()\n",
    "    return math.log(perplexity + 1)\n",
    "\n",
    "# Chat history\n",
    "conversation_history = []"
   ]
  },
  {
   "cell_type": "code",
   "execution_count": null,
   "id": "cf477c04-8cef-44b1-93b3-71971c2f5372",
   "metadata": {},
   "outputs": [
    {
     "name": "stdout",
     "output_type": "stream",
     "text": [
      "Type a question. Type 'exit' to quit.\n"
     ]
    }
   ],
   "source": [
    "#Chatbot\n",
    "print(\"Type a question. Type 'exit' to quit.\")\n",
    "while True:\n",
    "    user_input = input(\"User: \")\n",
    "    if user_input.lower() in ['exit', 'quit']:\n",
    "        print(\"Chatbot session ended.\")\n",
    "        break\n",
    "    \n",
    "    # User input\n",
    "    conversation_history.append(f\"User: {user_input}\")\n",
    "    \n",
    "    # Truncate conversation history if necessary\n",
    "    conversation_history = truncate_conversation(conversation_history, max_length=1024)\n",
    "    \n",
    "    # Generate bot response\n",
    "    bot_response = generate_response(conversation_history)\n",
    "    \n",
    "    # Add bot response to conversation history\n",
    "    conversation_history.append(f\"Bot: {bot_response}\")\n",
    "    \n",
    "    # Print bot response\n",
    "    print(f\"Bot: {bot_response}\")\n",
    "    \n",
    "    # Compute Perplexity\n",
    "    perplexity = compute_perplexity(model, tokenizer, bot_response)\n",
    "    \n",
    "    # Print Resulting Perplexity\n",
    "    print(f\"\\nPerplexity Score (log scale): {perplexity:.2f}\")\n",
    "    print(\"-\" * 50)"
   ]
  },
  {
   "cell_type": "code",
   "execution_count": null,
   "id": "f1945e87-7014-4760-aa75-9b74ec8a598f",
   "metadata": {},
   "outputs": [],
   "source": []
  }
 ],
 "metadata": {
  "kernelspec": {
   "display_name": "Python 3 (ipykernel)",
   "language": "python",
   "name": "python3"
  },
  "language_info": {
   "codemirror_mode": {
    "name": "ipython",
    "version": 3
   },
   "file_extension": ".py",
   "mimetype": "text/x-python",
   "name": "python",
   "nbconvert_exporter": "python",
   "pygments_lexer": "ipython3",
   "version": "3.11.7"
  }
 },
 "nbformat": 4,
 "nbformat_minor": 5
}
