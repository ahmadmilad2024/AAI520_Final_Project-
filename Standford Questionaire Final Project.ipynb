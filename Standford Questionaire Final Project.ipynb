{
 "cells": [
  {
   "cell_type": "code",
   "execution_count": 10,
   "id": "440b9089-f2b4-4cd2-b43b-4f4985b69273",
   "metadata": {},
   "outputs": [],
   "source": [
    "import tensorflow as tf\n",
    "from transformers import BertTokenizer, BertForSequenceClassification, AdamW\n",
    "import torch\n",
    "import pandas as pd\n",
    "import matplotlib.pyplot as plt\n",
    "import seaborn as sns \n",
    "from sklearn.model_selection import train_test_split\n",
    "from torch.utils.data import DataLoader, TensorDataset\n",
    "from transformers import AdamW\n",
    "from tqdm import tqdm\n",
    "from torch.nn import CrossEntropyLoss\n",
    "from sklearn.metrics import accuracy_score, precision_score, recall_score, f1_score\n",
    "from transformers import BertTokenizer, TFBertForSequenceClassification\n",
    "from sklearn.metrics import classification_report\n",
    "import json\n",
    "from itertools import islice\n",
    "import nltk\n",
    "import spacy\n",
    "import re\n",
    "from nltk.corpus import stopwords\n",
    "from nltk.stem import PorterStemmer\n",
    "from nltk.tokenize import word_tokenize"
   ]
  },
  {
   "cell_type": "code",
   "execution_count": 12,
   "id": "ce6ee3ad-0b89-485c-b557-f9deae61e6dc",
   "metadata": {},
   "outputs": [
    {
     "name": "stdout",
     "output_type": "stream",
     "text": [
      "Model is running on: cuda\n"
     ]
    }
   ],
   "source": [
    "# Check if CUDA (GPU) is available\n",
    "device = torch.device(\"cuda\" if torch.cuda.is_available() else \"cpu\")\n",
    "\n",
    "# Print the device in use\n",
    "print(f\"Model is running on: {device}\")"
   ]
  },
  {
   "cell_type": "code",
   "execution_count": 14,
   "id": "ff22d6a8-d60c-4e1b-9780-cf2bb8069f21",
   "metadata": {},
   "outputs": [],
   "source": [
    "# Read train data\n",
    "with open(r\"train-v1.1.json\", \"r\") as read_file:\n",
    "    train = json.load(read_file)\n",
    "\n",
    "# Read test data\n",
    "with open(r\"dev-v1.1.json\", \"r\") as read_file:\n",
    "    test = json.load(read_file)"
   ]
  },
  {
   "cell_type": "code",
   "execution_count": 15,
   "id": "a4a09117-3dd3-4ad5-b740-c1906700768d",
   "metadata": {},
   "outputs": [
    {
     "name": "stdout",
     "output_type": "stream",
     "text": [
      "dict_keys(['data', 'version'])\n"
     ]
    }
   ],
   "source": [
    "# Check top-level keys\n",
    "print(train.keys())  "
   ]
  },
  {
   "cell_type": "code",
   "execution_count": 18,
   "id": "25828c32-3624-46af-a1c9-729c63ebea01",
   "metadata": {},
   "outputs": [
    {
     "name": "stdout",
     "output_type": "stream",
     "text": [
      "Title: University_of_Notre_Dame\n",
      "Context: Architecturally, the school has a Catholic character. Atop the Main Building's gold dome is a golden ...\n",
      "Question: To whom did the Virgin Mary allegedly appear in 1858 in Lourdes France?\n",
      "Answer: Saint Bernadette Soubirous\n",
      "\n",
      "Question: What is in front of the Notre Dame Main Building?\n",
      "Answer: a copper statue of Christ\n",
      "\n",
      "Question: The Basilica of the Sacred heart at Notre Dame is beside to which structure?\n",
      "Answer: the Main Building\n",
      "\n",
      "Question: What is the Grotto at Notre Dame?\n",
      "Answer: a Marian place of prayer and reflection\n",
      "\n",
      "Question: What sits on top of the Main Building at Notre Dame?\n",
      "Answer: a golden statue of the Virgin Mary\n",
      "\n"
     ]
    }
   ],
   "source": [
    "# Initialize a counter to track the number of interactions printed\n",
    "interaction_count = 0\n",
    "max_interactions = 5  # Set the limit to 5\n",
    "\n",
    "for article in train['data']:\n",
    "    print(\"Title:\", article['title'])\n",
    "    for paragraph in article['paragraphs']:\n",
    "        print(\"Context:\", paragraph['context'][:100], \"...\")  #\n",
    "        for qa in paragraph['qas']:\n",
    "            print(\"Question:\", qa['question'])\n",
    "            for answer in qa['answers']:\n",
    "                print(\"Answer:\", answer['text'])\n",
    "            print()  \n",
    "            interaction_count += 1\n",
    "            \n",
    "            # Break if we reach the limit of 5 interactions\n",
    "            if interaction_count >= max_interactions:\n",
    "                break\n",
    "        if interaction_count >= max_interactions:\n",
    "            break\n",
    "    if interaction_count >= max_interactions:\n",
    "        break"
   ]
  },
  {
   "cell_type": "code",
   "execution_count": 20,
   "id": "76474f51-bf14-4315-aa6c-40c4f8174b63",
   "metadata": {},
   "outputs": [
    {
     "name": "stderr",
     "output_type": "stream",
     "text": [
      "[nltk_data] Downloading package punkt to\n",
      "[nltk_data]     C:\\Users\\sassy\\AppData\\Roaming\\nltk_data...\n",
      "[nltk_data]   Package punkt is already up-to-date!\n",
      "[nltk_data] Downloading package stopwords to\n",
      "[nltk_data]     C:\\Users\\sassy\\AppData\\Roaming\\nltk_data...\n",
      "[nltk_data]   Package stopwords is already up-to-date!\n"
     ]
    },
    {
     "name": "stdout",
     "output_type": "stream",
     "text": [
      "Original Context: Architecturally, the school has a Catholic character. Atop the Main Building's gold dome is a golden ...\n",
      "Preprocessed Context: architectur school cathol charact atop main build gold dome golden statu virgin mari immedi front ma ...\n"
     ]
    }
   ],
   "source": [
    "# Download necessary NLTK resources\n",
    "nltk.download('punkt')  # Tokenizer\n",
    "nltk.download('stopwords')  # Stop words\n",
    "\n",
    "# Load spaCy's English model\n",
    "nlp = spacy.load('en_core_web_sm')\n",
    "\n",
    "# Initialize NLTK stemmer\n",
    "stemmer = PorterStemmer()\n",
    "\n",
    "# NLTK stopwords\n",
    "stop_words = set(stopwords.words('english'))\n",
    "\n",
    "def preprocess_text(text):\n",
    "    # Convert to lowercase\n",
    "    text = text.lower()\n",
    "    \n",
    "    # Remove special characters\n",
    "    text = re.sub(r'[^a-zA-Z\\s]', '', text)\n",
    "    \n",
    "    # Tokenize text\n",
    "    tokens = word_tokenize(text)\n",
    "    \n",
    "    # Lemmatize and remove stopwords with spaCy\n",
    "    doc = nlp(' '.join(tokens))\n",
    "    lemmatized_tokens = [token.lemma_ for token in doc if token.text not in stop_words]\n",
    "    \n",
    "    # Stem tokens using NLTK\n",
    "    stemmed_tokens = [stemmer.stem(token) for token in lemmatized_tokens]\n",
    "    \n",
    "    return ' '.join(stemmed_tokens)\n",
    "\n",
    "# Preprocess an example paragraph\n",
    "for article in train['data']:\n",
    "    for paragraph in article['paragraphs']:\n",
    "        context = paragraph['context']\n",
    "        preprocessed_context = preprocess_text(context)\n",
    "        print(\"Original Context:\", context[:100], \"...\")  # Print first 100 chars for readability\n",
    "        print(\"Preprocessed Context:\", preprocessed_context[:100], \"...\")  # Print first 100 chars for readability\n",
    "        break  # Limiting to 1 iteration for demonstration\n",
    "    break"
   ]
  },
  {
   "cell_type": "code",
   "execution_count": null,
   "id": "e3f84388-3747-4945-ac86-643a6581bcf8",
   "metadata": {},
   "outputs": [],
   "source": []
  }
 ],
 "metadata": {
  "kernelspec": {
   "display_name": "Python 3 (ipykernel)",
   "language": "python",
   "name": "python3"
  },
  "language_info": {
   "codemirror_mode": {
    "name": "ipython",
    "version": 3
   },
   "file_extension": ".py",
   "mimetype": "text/x-python",
   "name": "python",
   "nbconvert_exporter": "python",
   "pygments_lexer": "ipython3",
   "version": "3.11.7"
  }
 },
 "nbformat": 4,
 "nbformat_minor": 5
}
