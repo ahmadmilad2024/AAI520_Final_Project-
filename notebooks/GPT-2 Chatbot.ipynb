{
 "cells": [
  {
   "cell_type": "code",
   "execution_count": 1,
   "id": "ca5f8fb2-3116-4f3a-a81c-e76b729676a8",
   "metadata": {},
   "outputs": [],
   "source": [
    "# Install necessary for modeling\n",
    "!pip install transformers --quiet\n",
    "from transformers import GPT2Tokenizer, GPT2LMHeadModel\n",
    "import torch\n",
    "import math\n",
    "\n",
    "# Load the fine-tuned tokenizer and model\n",
    "tokenizer = GPT2Tokenizer.from_pretrained(r'C:\\Users\\sassy\\Downloads\\Final Project\\gpt2-qa')\n",
    "model = GPT2LMHeadModel.from_pretrained(r'C:\\Users\\sassy\\Downloads\\Final Project\\gpt2-qa')\n",
    "\n",
    "# Ensure model is in evaluation mode\n",
    "model.eval()\n",
    "\n",
    "# Define the response generation function with response length limitation\n",
    "def generate_response(conversation_history, max_length=500):\n",
    "    # Join the conversation history into a single string\n",
    "    prompt = '\\n'.join(conversation_history) + '\\nBot:'\n",
    "    \n",
    "    # Tokenize prompt\n",
    "    inputs = tokenizer(prompt, return_tensors='pt', padding=True, truncation=True, max_length=1024)\n",
    "    \n",
    "    # Generate a response with a limited max length\n",
    "    output = model.generate(\n",
    "        input_ids=inputs['input_ids'],\n",
    "        attention_mask=inputs['attention_mask'],\n",
    "        max_length=inputs['input_ids'].shape[1] + 75,\n",
    "        pad_token_id=tokenizer.pad_token_id,\n",
    "        no_repeat_ngram_size=3,\n",
    "        do_sample=True,\n",
    "        top_p=0.9,\n",
    "        temperature=0.8\n",
    "    )\n",
    "    \n",
    "    # Decode and extract the bot's response\n",
    "    response_text = tokenizer.decode(output[0], skip_special_tokens=True)\n",
    "    generated_text = response_text[len(prompt):].strip()\n",
    "    for stop_token in ['\\nUser:', '\\nBot:']:\n",
    "        generated_text = generated_text.split(stop_token)[0]\n",
    "    return generated_text.strip()"
   ]
  },
  {
   "cell_type": "code",
   "execution_count": 2,
   "id": "88c366cb-a5c5-4daa-9bbe-d223a88efac7",
   "metadata": {},
   "outputs": [],
   "source": [
    "# Function to truncate conversation history if too long\n",
    "def truncate_conversation(conversation_history, max_length=1024):\n",
    "    prompt = '\\n'.join(conversation_history) + '\\nBot:'\n",
    "    tokenized_prompt = tokenizer(prompt, return_tensors='pt')\n",
    "    total_length = tokenized_prompt.input_ids.shape[1]\n",
    "    while total_length > max_length and len(conversation_history) > 1:\n",
    "        conversation_history = conversation_history[2:]  # Remove oldest user and bot turn\n",
    "        tokenized_prompt = tokenizer('\\n'.join(conversation_history) + '\\nBot:', return_tensors='pt')\n",
    "        total_length = tokenized_prompt.input_ids.shape[1]\n",
    "    return conversation_history\n",
    "\n",
    "# Function to compute log-transformed perplexity to avoid large jumps\n",
    "def compute_perplexity(model, tokenizer, text):\n",
    "    with torch.no_grad():\n",
    "        inputs = tokenizer(text, return_tensors='pt')\n",
    "        outputs = model(**inputs, labels=inputs[\"input_ids\"])\n",
    "        loss = outputs.loss\n",
    "        perplexity = torch.exp(loss).item()\n",
    "    return math.log(perplexity + 1)\n",
    "\n",
    "# Chat history\n",
    "conversation_history = []"
   ]
  },
  {
   "cell_type": "code",
   "execution_count": 3,
   "id": "20fd92e0-c3e0-4467-9b8c-59907bd11587",
   "metadata": {},
   "outputs": [
    {
     "name": "stdout",
     "output_type": "stream",
     "text": [
      "Type a question. Type 'exit' to quit.\n"
     ]
    },
    {
     "name": "stdin",
     "output_type": "stream",
     "text": [
      "User:  To whom did the Virgin Mary allegedly appear in 1858 in Lourdes France?\n"
     ]
    },
    {
     "name": "stdout",
     "output_type": "stream",
     "text": [
      "Bot: Virgin Mary in L'Anse aux Mêmes\n",
      "\n",
      "Perplexity Score (log scale): 8.10\n",
      "--------------------------------------------------\n"
     ]
    },
    {
     "name": "stdin",
     "output_type": "stream",
     "text": [
      "User:  What is in front of the Notre Dame Main Building? Answer: a copper statue of Christ\n"
     ]
    },
    {
     "name": "stdout",
     "output_type": "stream",
     "text": [
      "Bot: A copper statue\n",
      "\n",
      "Perplexity Score (log scale): 36.94\n",
      "--------------------------------------------------\n"
     ]
    },
    {
     "name": "stdin",
     "output_type": "stream",
     "text": [
      "User:  The Basilica of the Sacred heart at Notre Dame is beside to which structure?\n"
     ]
    },
    {
     "name": "stdout",
     "output_type": "stream",
     "text": [
      "Bot: Basilica\n",
      "\n",
      "Perplexity Score (log scale): 26.18\n",
      "--------------------------------------------------\n"
     ]
    },
    {
     "name": "stdin",
     "output_type": "stream",
     "text": [
      "User:  What is the Grotto at Notre Dame?\n"
     ]
    },
    {
     "name": "stdout",
     "output_type": "stream",
     "text": [
      "Bot: Notre Dame Grotto\n",
      "\n",
      "Perplexity Score (log scale): 14.94\n",
      "--------------------------------------------------\n"
     ]
    },
    {
     "name": "stdin",
     "output_type": "stream",
     "text": [
      "User:  What sits on top of the Main Building at Notre Dame?\n"
     ]
    },
    {
     "name": "stdout",
     "output_type": "stream",
     "text": [
      "Bot: the Basilica\n",
      "\n",
      "Perplexity Score (log scale): 30.68\n",
      "--------------------------------------------------\n"
     ]
    },
    {
     "name": "stdin",
     "output_type": "stream",
     "text": [
      "User:  Where is the University of Notre Dame located\n"
     ]
    },
    {
     "name": "stdout",
     "output_type": "stream",
     "text": [
      "Bot: The Notre Dame\n",
      "\n",
      "Perplexity Score (log scale): 28.71\n",
      "--------------------------------------------------\n"
     ]
    },
    {
     "name": "stdin",
     "output_type": "stream",
     "text": [
      "User:  What do people major in?\n"
     ]
    },
    {
     "name": "stdout",
     "output_type": "stream",
     "text": [
      "Bot: Philosophy\n",
      "\n",
      "Perplexity Score (log scale): 22.94\n",
      "--------------------------------------------------\n"
     ]
    },
    {
     "name": "stdin",
     "output_type": "stream",
     "text": [
      "User:  What is the philosophy major acceptance rate there?\n"
     ]
    },
    {
     "name": "stdout",
     "output_type": "stream",
     "text": [
      "Bot: 44%\n",
      "\n",
      "Perplexity Score (log scale): 36.42\n",
      "--------------------------------------------------\n"
     ]
    },
    {
     "name": "stdin",
     "output_type": "stream",
     "text": [
      "User:  exit\n"
     ]
    },
    {
     "name": "stdout",
     "output_type": "stream",
     "text": [
      "Chatbot session ended.\n"
     ]
    }
   ],
   "source": [
    "#Chatbot\n",
    "print(\"Type a question. Type 'exit' to quit.\")\n",
    "while True:\n",
    "    user_input = input(\"User: \")\n",
    "    if user_input.lower() in ['exit', 'quit']:\n",
    "        print(\"Chatbot session ended.\")\n",
    "        break\n",
    "    \n",
    "    # User input\n",
    "    conversation_history.append(f\"User: {user_input}\")\n",
    "    \n",
    "    # Truncate conversation history if necessary\n",
    "    conversation_history = truncate_conversation(conversation_history, max_length=1024)\n",
    "    \n",
    "    # Generate bot response\n",
    "    bot_response = generate_response(conversation_history)\n",
    "    \n",
    "    # Add bot response to conversation history\n",
    "    conversation_history.append(f\"Bot: {bot_response}\")\n",
    "    \n",
    "    # Print bot response\n",
    "    print(f\"Bot: {bot_response}\")\n",
    "    \n",
    "    # Compute Perplexity\n",
    "    perplexity = compute_perplexity(model, tokenizer, bot_response)\n",
    "    \n",
    "    # Print Resulting Perplexity\n",
    "    print(f\"\\nPerplexity Score (log scale): {perplexity:.2f}\")\n",
    "    print(\"-\" * 50)"
   ]
  },
  {
   "cell_type": "code",
   "execution_count": null,
   "id": "ca9a3a4f-fc52-4216-a2e6-5c1db8d021e5",
   "metadata": {},
   "outputs": [],
   "source": []
  }
 ],
 "metadata": {
  "kernelspec": {
   "display_name": "Python 3 (ipykernel)",
   "language": "python",
   "name": "python3"
  },
  "language_info": {
   "codemirror_mode": {
    "name": "ipython",
    "version": 3
   },
   "file_extension": ".py",
   "mimetype": "text/x-python",
   "name": "python",
   "nbconvert_exporter": "python",
   "pygments_lexer": "ipython3",
   "version": "3.11.7"
  }
 },
 "nbformat": 4,
 "nbformat_minor": 5
}
